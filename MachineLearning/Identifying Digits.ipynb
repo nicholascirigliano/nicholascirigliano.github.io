{
 "cells": [
  {
   "cell_type": "markdown",
   "id": "658744d0",
   "metadata": {},
   "source": [
    "# Identifying Digits - Machine Learning Project"
   ]
  },
  {
   "cell_type": "markdown",
   "id": "7d8b2407",
   "metadata": {},
   "source": [
    "### Import packages and datasets"
   ]
  },
  {
   "cell_type": "code",
   "execution_count": 40,
   "id": "eee5ca21",
   "metadata": {},
   "outputs": [],
   "source": [
    "import matplotlib.pyplot as plt\n",
    "from sklearn import datasets, svm, metrics\n",
    "from sklearn.model_selection import train_test_split"
   ]
  },
  {
   "cell_type": "markdown",
   "id": "012bb27c",
   "metadata": {},
   "source": [
    "### Set up axes & load in digits dataset"
   ]
  },
  {
   "cell_type": "code",
   "execution_count": 52,
   "id": "2291584a",
   "metadata": {},
   "outputs": [
    {
     "data": {
      "image/png": "[encoded data removed]",
      "text/plain": [
       "<Figure size 720x216 with 4 Axes>"
      ]
     },
     "metadata": {
      "needs_background": "light"
     },
     "output_type": "display_data"
    }
   ],
   "source": [
    "digits = datasets.load_digits()\n",
    "\n",
    "_,axes = plt.subplots(nrows = 1, ncols = 4, figsize = (10,3))\n",
    "for ax, image, label in zip(axes, digits.images, digits.target):\n",
    "    ax.set_axis_off()\n",
    "    ax.imshow(image, cmap=plt.cm.gray_r, interpolation = \"nearest\")\n",
    "    ax.set_title(\"Training: %i\" % label)"
   ]
  },
  {
   "cell_type": "code",
   "execution_count": 53,
   "id": "24115017",
   "metadata": {},
   "outputs": [],
   "source": [
    "#Flatten the images\n",
    "n_samples = len(digits.images)\n",
    "data = digits.images.reshape((n_samples, -1))\n",
    "\n",
    "#Creating a support vector classifier\n",
    "classfi = svm.SVC(gamma=0.001)\n",
    "\n",
    "#Split data into 50% train and 50% test\n",
    "X_train, X_test, y_train, y_test = train_test_split(data, \n",
    "digits.target, test_size = 0.5, shuffle = False)\n",
    "\n",
    "#Learn the digits on the train subset\n",
    "classfi.fit(X_train, y_train)\n",
    "\n",
    "#Predicting the value of the digit on the test subset\n",
    "predicted = classfi.predict(X_test)"
   ]
  },
  {
   "cell_type": "code",
   "execution_count": 54,
   "id": "a84edeaa",
   "metadata": {},
   "outputs": [
    {
     "data": {
      "image/png": "[encoded data removed]",
      "text/plain": [
       "<Figure size 720x216 with 4 Axes>"
      ]
     },
     "metadata": {
      "needs_background": "light"
     },
     "output_type": "display_data"
    }
   ],
   "source": [
    "_, axes, = plt.subplots(nrows = 1, ncols = 4, figsize = (10, 3))\n",
    "for ax, image, prediction in zip(axes, X_test, predicted):\n",
    "    ax.set_axis_off()\n",
    "    image = image.reshape(8,8)\n",
    "    ax.imshow(image, cmap=plt.cm.gray_r, interpolation=\"nearest\")\n",
    "    ax.set_title(f\"Prediction: {prediction}\")"
   ]
  },
  {
   "cell_type": "markdown",
   "id": "3d566022",
   "metadata": {},
   "source": [
    "### Print out classification report showing key metrics"
   ]
  },
  {
   "cell_type": "code",
   "execution_count": 55,
   "id": "1a3c575e",
   "metadata": {},
   "outputs": [
    {
     "name": "stdout",
     "output_type": "stream",
     "text": [
      "Classification report for classifier SVC(gamma=0.001):\n",
      "              precision    recall  f1-score   support\n",
      "\n",
      "           0       1.00      0.99      0.99        88\n",
      "           1       0.99      0.97      0.98        91\n",
      "           2       0.99      0.99      0.99        86\n",
      "           3       0.98      0.87      0.92        91\n",
      "           4       0.99      0.96      0.97        92\n",
      "           5       0.95      0.97      0.96        91\n",
      "           6       0.99      0.99      0.99        91\n",
      "           7       0.96      0.99      0.97        89\n",
      "           8       0.94      1.00      0.97        88\n",
      "           9       0.93      0.98      0.95        92\n",
      "\n",
      "    accuracy                           0.97       899\n",
      "   macro avg       0.97      0.97      0.97       899\n",
      "weighted avg       0.97      0.97      0.97       899\n",
      "\n",
      "\n"
     ]
    }
   ],
   "source": [
    "print(f\"Classification report for classifier {classfi}:\\n\"\n",
    "      f\"{metrics.classification_report(y_test, predicted)}\\n\"\n",
    ")"
   ]
  },
  {
   "cell_type": "code",
   "execution_count": null,
   "id": "505b2a09",
   "metadata": {},
   "outputs": [],
   "source": []
  }
 ],
 "metadata": {
  "kernelspec": {
   "display_name": "Python 3 (ipykernel)",
   "language": "python",
   "name": "python3"
  },
  "language_info": {
   "codemirror_mode": {
    "name": "ipython",
    "version": 3
   },
   "file_extension": ".py",
   "mimetype": "text/x-python",
   "name": "python",
   "nbconvert_exporter": "python",
   "pygments_lexer": "ipython3",
   "version": "3.9.7"
  }
 },
 "nbformat": 4,
 "nbformat_minor": 5
}
